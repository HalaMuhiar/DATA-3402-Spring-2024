{
 "cells": [
  {
   "cell_type": "markdown",
   "metadata": {},
   "source": [
    "## Lab 2 - Tic Tac Toe\n",
    "\n",
    "In this lab your will build a n x n Tic Tac Toe game. As you do the exercises, make sure your solutions work for any size Tic Tac Toe game. "
   ]
  },
  {
   "cell_type": "markdown",
   "metadata": {},
   "source": [
    "***Exercise 1:*** Write a function that creates an n by n matrix (of list of lists) which will represent the state of a Tic Tac Toe game. Let 0, 1, and 2 represent empty, \"X\", and \"O\", respectively.\n"
   ]
  },
  {
   "cell_type": "code",
   "execution_count": 1,
   "metadata": {},
   "outputs": [],
   "source": [
    "# Write you solution here\n",
    "    \n",
    "empty=0\n",
    "X=1\n",
    "O=2\n",
    "\n",
    "def Board(size):\n",
    "    board=list()\n",
    "    for i in range(size):\n",
    "        board.append([empty]*size)\n",
    "    return board"
   ]
  },
  {
   "cell_type": "code",
   "execution_count": 2,
   "metadata": {},
   "outputs": [
    {
     "data": {
      "text/plain": [
       "[[0, 0, 0], [0, 0, 0], [0, 0, 0]]"
      ]
     },
     "execution_count": 2,
     "metadata": {},
     "output_type": "execute_result"
    }
   ],
   "source": [
    "# Test your solution here\n",
    "board_0=Board(3)\n",
    "board_0"
   ]
  },
  {
   "cell_type": "markdown",
   "metadata": {},
   "source": [
    "***Exercise 2:*** Write a function that takes 2 integers `n` and `m` as input and draws a `n` by `m` game board. For example the following is a 3x3 board:\n",
    "```\n",
    "   --- --- --- \n",
    "  |   |   |   | \n",
    "   --- --- ---  \n",
    "  |   |   |   | \n",
    "   --- --- ---  \n",
    "  |   |   |   | \n",
    "   --- --- --- \n",
    "   ```"
   ]
  },
  {
   "cell_type": "code",
   "execution_count": 3,
   "metadata": {},
   "outputs": [],
   "source": [
    "# Write you solution here\n",
    "def GameBoard(size_row,size_column):\n",
    "    for a in range(size_column):\n",
    "        print(\" ---\", end=\"\")\n",
    "    \n",
    "    for b in range(size_row):\n",
    "        \n",
    "        print(\"\\n\", end=\"\")\n",
    "        \n",
    "        for i in range(size_column+1):\n",
    "            print(\"|   \", end=\"\")\n",
    "    \n",
    "        print(\"\\n\", end=\"\")\n",
    "    \n",
    "        for j in range(size_column):\n",
    "            print(\" ---\", end=\"\")\n"
   ]
  },
  {
   "cell_type": "code",
   "execution_count": 4,
   "metadata": {},
   "outputs": [
    {
     "name": "stdout",
     "output_type": "stream",
     "text": [
      " --- --- ---\n",
      "|   |   |   |   \n",
      " --- --- ---\n",
      "|   |   |   |   \n",
      " --- --- ---\n",
      "|   |   |   |   \n",
      " --- --- ---"
     ]
    }
   ],
   "source": [
    "# Test your solution here\n",
    "GameBoard(3,3)"
   ]
  },
  {
   "cell_type": "markdown",
   "metadata": {},
   "source": [
    "***Exercise 3:*** Modify exercise 2, so that it takes a matrix of the form from exercise 1 and draws a tic-tac-toe board with \"X\"s and \"O\"s.  "
   ]
  },
  {
   "cell_type": "code",
   "execution_count": 5,
   "metadata": {},
   "outputs": [],
   "source": [
    "# Write you solution here\n",
    "\n",
    "def DrawBoard(board):\n",
    "\n",
    "    global n,m\n",
    "    n=len(board)\n",
    "    m=len(board[0])\n",
    "   \n",
    "    player_1_piece=\"X\"\n",
    "    player_2_piece=\"O\"\n",
    "    empty_space=\" \"\n",
    "\n",
    "    characters={'X': player_1_piece,\n",
    "            'O': player_2_piece,\n",
    "            empty: empty_space}\n",
    "    \n",
    "    for i in range(n):\n",
    "        print(' ---'*m)\n",
    "        for j in range(m):\n",
    "            print(f'| {characters[board[i][j]]}', end=\" \")\n",
    "        print('| ')\n",
    "    print(' ---'*m)"
   ]
  },
  {
   "cell_type": "code",
   "execution_count": 6,
   "metadata": {},
   "outputs": [
    {
     "name": "stdout",
     "output_type": "stream",
     "text": [
      " --- --- ---\n",
      "|   |   |   | \n",
      " --- --- ---\n",
      "|   |   |   | \n",
      " --- --- ---\n",
      "|   |   |   | \n",
      " --- --- ---\n"
     ]
    }
   ],
   "source": [
    "DrawBoard(board_0)"
   ]
  },
  {
   "cell_type": "markdown",
   "metadata": {},
   "source": [
    "***Exercise 4:*** Write a function that takes a `n` by `n` matrix representing a tic-tac-toe game, and returns -1, 0, 1, or 2 indicating the game is incomplete, the game is a draw, player 1 has won, or player 2 has one, respectively. Here are some example inputs you can use to test your code:"
   ]
  },
  {
   "cell_type": "code",
   "execution_count": 7,
   "metadata": {},
   "outputs": [],
   "source": [
    "winner_is_2 = [[2, 2, 0],\n",
    "               [2, 1, 0],\n",
    "               [2, 1, 1]]\n",
    "\n",
    "winner_is_1 = [[1, 2, 0],\n",
    "               [2, 1, 0],\n",
    "               [2, 1, 1]]\n",
    "\n",
    "winner_is_also_1 = [[0, 1, 0],\n",
    "                    [2, 1, 0],\n",
    "                    [2, 1, 1]]\n",
    "\n",
    "no_winner = [[1, 2, 0],\n",
    "             [2, 1, 0],\n",
    "             [2, 1, 2]]\n",
    "\n",
    "also_no_winner = [[1, 2, 0],\n",
    "                  [2, 1, 0],\n",
    "                  [2, 1, 0]]\n",
    "\n",
    "incomplete = [[0, 0, 0],\n",
    "              [0, 0, 0],\n",
    "              [1, 0, 2]]"
   ]
  },
  {
   "cell_type": "code",
   "execution_count": 8,
   "metadata": {},
   "outputs": [],
   "source": [
    "# Write you solution here\n",
    "def game_state(board):\n",
    "        \n",
    "    def is_winner(lst):\n",
    "        if lst == [player_1_piece]*len(lst):\n",
    "            return player_1_piece\n",
    "        elif lst == [player_2_piece]*len(lst):\n",
    "            return player_2_piece\n",
    "        else:\n",
    "            return False\n",
    "    \n",
    "#for row winner\n",
    "    def row_winner():\n",
    "        for i in range(n):\n",
    "            if board[i] == [player_1_piece]*m:\n",
    "                return player_1_piece\n",
    "            if board[i] == [player_2_piece]*m:\n",
    "                return player_2_piece\n",
    "        return False\n",
    "   \n",
    "    col_list = []\n",
    "    for i in range(m):\n",
    "        col = []\n",
    "        for j in range(n):\n",
    "            col.append(board[j][i])\n",
    "        col_list.append(col)\n",
    "\n",
    "#for column winner\n",
    "    def col_winner():\n",
    "        for i in range(m):\n",
    "            if is_winner(col_list[i]) == player_1_piece:\n",
    "                return player_1_piece\n",
    "            if is_winner(col_list[i]) == player_2_piece:\n",
    "                return player_2_piece\n",
    "        return False\n",
    "  \n",
    "    def is_full():\n",
    "        z = 0\n",
    "        for i in range(n):\n",
    "            for j in range(m):\n",
    "                if board[i][j] != empty:\n",
    "                    z=1\n",
    "        if z==(n*m):\n",
    "            return True\n",
    "        else:\n",
    "            return False\n",
    "        \n",
    "    def winner():\n",
    "        row_state = row_winner()\n",
    "        col_state = col_winner()\n",
    "        if row_state:\n",
    "            return row_state\n",
    "        elif col_state:\n",
    "            return col_state\n",
    "    \n",
    "        else:\n",
    "            return False\n",
    "    \n",
    "    if winner():\n",
    "        return winner()\n",
    "    elif is_full():\n",
    "        return 0\n",
    "    else:\n",
    "        return -1\n",
    "\n",
    "def Diags(M):\n",
    "    n=len(M)\n",
    "    m=len(M[0])\n",
    "\n",
    "    if n!=m:\n",
    "        print('Not a square matrix.')\n",
    "        return None\n",
    "\n",
    "    diag_1=[M[c][c] for c in range(n)]\n",
    "    diag_2=[M[c][n-c-1] for c in range(n)]\n",
    "\n",
    "    return [diag_1,diag_2]\n",
    "\n",
    "def Rows(M):\n",
    "    return M\n",
    "\n",
    "def Columns(M):\n",
    "    n=len(M)\n",
    "    m=len(M[0])\n",
    "\n",
    "    if n!=m:\n",
    "        print('Not a square matrix.')\n",
    "        return None\n",
    "\n",
    "    M_T=list()\n",
    "    for i in range(n):\n",
    "        M_T.append([0]*n)\n",
    "\n",
    "    for i in range(n):\n",
    "        for j in range(n):\n",
    "            M_T[i][j]=M[j][i]\n",
    "\n",
    "    return M_T\n",
    "\n",
    "def All_Paths(M):\n",
    "    return Diags(M)+Rows(M)+Columns(M)\n",
    "\n",
    "def List_Same(lst):\n",
    "    for l in lst:\n",
    "        if l!=lst[0]:\n",
    "            return 0\n",
    "    for l in lst:\n",
    "        if l==0:\n",
    "            return -1\n",
    "    return lst[0]"
   ]
  },
  {
   "cell_type": "code",
   "execution_count": 9,
   "metadata": {},
   "outputs": [
    {
     "name": "stdout",
     "output_type": "stream",
     "text": [
      "[[0, 0, 2], [0, 0, 1], [0, 0, 0], [0, 0, 0], [1, 0, 2], [0, 0, 1], [0, 0, 0], [0, 0, 2]]\n"
     ]
    },
    {
     "data": {
      "text/plain": [
       "[0, 0, -1, -1, 0, 0, -1, 0]"
      ]
     },
     "execution_count": 9,
     "metadata": {},
     "output_type": "execute_result"
    }
   ],
   "source": [
    "# Test your solution here\n",
    "print(All_Paths(incomplete))\n",
    "list(map(List_Same,All_Paths(incomplete)))"
   ]
  },
  {
   "cell_type": "markdown",
   "metadata": {},
   "source": [
    "***Exercise 5:*** Write a function that takes a game board, player number, and `(x,y)` coordinates and places \"X\" or \"O\" in the correct location of the game board. Make sure that you only allow filling previously empty locations. Return `True` or `False` to indicate successful placement of \"X\" or \"O\"."
   ]
  },
  {
   "cell_type": "code",
   "execution_count": 10,
   "metadata": {},
   "outputs": [],
   "source": [
    "# Write you solution here\n",
    "\n",
    "player_1_piece=\"X\"\n",
    "player_2_piece=\"O\"\n",
    "empty_space=\" \"\n",
    "\n",
    "characters={'X': player_1_piece,\n",
    "            'O': player_2_piece,\n",
    "            empty: empty_space}\n",
    "\n",
    "def print_message(message,verbose=True):\n",
    "    if verbose:\n",
    "        print(message)\n",
    "\n",
    "def place_mark(board,player,location,verbose=True):\n",
    "    x,y=location\n",
    "\n",
    "    if board[x][y]!=empty:\n",
    "        print_message('Invalid placement.')\n",
    "        return False\n",
    "    else:\n",
    "        board[x][y]=player\n",
    "        return True\n",
    "    "
   ]
  },
  {
   "cell_type": "code",
   "execution_count": 11,
   "metadata": {},
   "outputs": [
    {
     "data": {
      "text/plain": [
       "[[0, 0, 0], [0, 0, 'X'], [0, 0, 0]]"
      ]
     },
     "execution_count": 11,
     "metadata": {},
     "output_type": "execute_result"
    }
   ],
   "source": [
    "# Test your solution here\n",
    "place_mark(board_0,player_1_piece,(1,2))\n",
    "board_0"
   ]
  },
  {
   "cell_type": "markdown",
   "metadata": {},
   "source": [
    "***Exercise 6:*** Modify Exercise 4 to show column and row labels so that players can specify location using \"A2\" or \"C1\"."
   ]
  },
  {
   "cell_type": "code",
   "execution_count": 12,
   "metadata": {},
   "outputs": [],
   "source": [
    "# Write you solution here\n",
    "\n",
    "def LabelBoard(board):\n",
    "\n",
    "    global row_names,row_map,column_names,column_map\n",
    "    row_names=list(\"ABCDEFGHIJKLMNOPQRSTUVWXYZ\")\n",
    "    row_map=dict(zip(row_names,range(len(board))))\n",
    "    \n",
    "    column_names=list(map(str,range(1,len(board)+1)))\n",
    "    column_map=dict(zip(column_names,range(len(board))))\n",
    "\n",
    "    rows=len(board)\n",
    "    cols=len(board[0])\n",
    "\n",
    "    print(\"  \",end=\" \")\n",
    "\n",
    "    for a in range(cols):\n",
    "        print(column_names[a],end=\" \")\n",
    "        print(\"  \",end=\" \")\n",
    "\n",
    "    print()\n",
    "    print(\"  \",end=\" \")\n",
    "    print(\"--- \"*cols)\n",
    "\n",
    "    for a in range(rows):\n",
    "        print(row_names[a],end=\" \")\n",
    "        print(\"|\",end=\" \")\n",
    "\n",
    "        for b in range(cols):\n",
    "            print(characters[board[a][b]],end=\" \")\n",
    "            print(\"|\",end=\" \")\n",
    "\n",
    "        print()\n",
    "        print(\"  \",end=\" \")\n",
    "        print(\"--- \"*cols)"
   ]
  },
  {
   "cell_type": "code",
   "execution_count": 13,
   "metadata": {},
   "outputs": [
    {
     "name": "stdout",
     "output_type": "stream",
     "text": [
      "   1    2    3    \n",
      "   --- --- --- \n",
      "A |   |   |   | \n",
      "   --- --- --- \n",
      "B |   |   | X | \n",
      "   --- --- --- \n",
      "C |   |   |   | \n",
      "   --- --- --- \n"
     ]
    }
   ],
   "source": [
    "# Test your solution here\n",
    "LabelBoard(board_0)"
   ]
  },
  {
   "cell_type": "markdown",
   "metadata": {},
   "source": [
    "***Exercise 7:*** Write a function that takes a board, player number, and location specified as in exercise 6 and then calls exercise 5 to correctly modify the board.  "
   ]
  },
  {
   "cell_type": "code",
   "execution_count": 14,
   "metadata": {},
   "outputs": [],
   "source": [
    "# Write you solution here\n",
    "def parse_location(l_string):\n",
    "    if not isinstance(l_string,str):\n",
    "        print_message(\"Bad Input. Location must be string.\")\n",
    "        return False\n",
    "    \n",
    "    if len(l_string)!=2:\n",
    "        print_message(\"Bad Input. Location must be 2 characters.\")\n",
    "        return False\n",
    "    \n",
    "    row=l_string[0].upper()\n",
    "    col=l_string[1].upper()\n",
    "    \n",
    "    if not row in row_names:\n",
    "        print_message(\"Bad Row.\")\n",
    "        return False\n",
    "\n",
    "    if not col in column_names:\n",
    "        print_message(\"Bad Column.\")\n",
    "        return False\n",
    "\n",
    "    return row_map[row],column_map[col]\n",
    "\n",
    "def nice_place_piece(board,player,location):\n",
    "    loc=parse_location(location)\n",
    "\n",
    "    if loc:\n",
    "        return place_mark(board,player,loc)\n",
    "    else:\n",
    "        print_message(\"Bad placement.\")\n",
    "        return False \n",
    "\n",
    "    return board\n"
   ]
  },
  {
   "cell_type": "code",
   "execution_count": 15,
   "metadata": {},
   "outputs": [
    {
     "name": "stdout",
     "output_type": "stream",
     "text": [
      "   1    2    3    \n",
      "   --- --- --- \n",
      "A |   |   |   | \n",
      "   --- --- --- \n",
      "B | X |   | X | \n",
      "   --- --- --- \n",
      "C |   |   |   | \n",
      "   --- --- --- \n"
     ]
    }
   ],
   "source": [
    "# Test your solution here\n",
    "nice_place_piece(board_0,player_1_piece,\"B1\")\n",
    "LabelBoard(board_0)"
   ]
  },
  {
   "cell_type": "markdown",
   "metadata": {},
   "source": [
    "***Exercise 8:*** Write a function is called with a board and player number, takes input from the player using python's `input`, and modifies the board using your function from exercise 7. Note that you should keep asking for input until you have gotten a valid input that results in a valid move."
   ]
  },
  {
   "cell_type": "code",
   "execution_count": 16,
   "metadata": {},
   "outputs": [],
   "source": [
    "# Write you solution here\n",
    "def take_mark(board,player):\n",
    "    good_mark = False\n",
    "    \n",
    "    while not good_mark:\n",
    "        location_string = input(\"Input location to place your piece:\")\n",
    "        if location_string==\"XX\":\n",
    "            good_mark = \"end\"\n",
    "            return good_move\n",
    "        good_mark = nice_place_piece(board,player,location_string)"
   ]
  },
  {
   "cell_type": "code",
   "execution_count": 17,
   "metadata": {},
   "outputs": [
    {
     "name": "stdin",
     "output_type": "stream",
     "text": [
      "Input location to place your piece: C3\n"
     ]
    },
    {
     "name": "stdout",
     "output_type": "stream",
     "text": [
      "   1    2    3    \n",
      "   --- --- --- \n",
      "A |   |   |   | \n",
      "   --- --- --- \n",
      "B | X |   | X | \n",
      "   --- --- --- \n",
      "C |   |   | X | \n",
      "   --- --- --- \n"
     ]
    }
   ],
   "source": [
    "# Test your solution here\n",
    "take_mark(board_0,player_1_piece)\n",
    "LabelBoard(board_0)"
   ]
  },
  {
   "cell_type": "markdown",
   "metadata": {},
   "source": [
    "***Exercise 9:*** Use all of the previous exercises to implement a full tic-tac-toe game, where an appropriate board is drawn, 2 players are repeatedly asked for a location coordinates of where they wish to place a mark, and the game status is checked until a player wins or a draw occurs."
   ]
  },
  {
   "cell_type": "code",
   "execution_count": 18,
   "metadata": {},
   "outputs": [],
   "source": [
    "# Write you solution here\n",
    "def TicTacToe(board):\n",
    "    print(\"Welcome to Tic-Tac-Toe!\")\n",
    "    print(\"--------------------\")\n",
    "    \n",
    "    board_0=board\n",
    "    \n",
    "    player=player_1_piece\n",
    "    \n",
    "    gamestate=-1\n",
    "    \n",
    "    while gamestate==-1:\n",
    "        DrawBoard(board_0)\n",
    "        \n",
    "        print(\"Player\",player,\"move:\")\n",
    "        new_mark=take_mark(board_0,player)\n",
    "        \n",
    "        if new_mark==\"end\":\n",
    "            print(\"Player has left the game\")\n",
    "            break\n",
    "        gamestate=game_state(board)\n",
    "        \n",
    "        if player==player_1_piece:\n",
    "            player=player_2_piece\n",
    "        else:\n",
    "            player=player_1_piece\n",
    "         \n",
    "    if not new_mark==\"end\":\n",
    "        DrawBoard(board_0)\n",
    "        if gamestate==0:\n",
    "            print(\"The game is a draw\")\n",
    "        else:\n",
    "            print(\"Winner is player\",gamestate)"
   ]
  },
  {
   "cell_type": "code",
   "execution_count": 19,
   "metadata": {},
   "outputs": [
    {
     "name": "stdout",
     "output_type": "stream",
     "text": [
      "Welcome to Tic-Tac-Toe!\n",
      "--------------------\n",
      " --- --- ---\n",
      "|   |   |   | \n",
      " --- --- ---\n",
      "| X |   | X | \n",
      " --- --- ---\n",
      "|   |   | X | \n",
      " --- --- ---\n",
      "Player X move:\n"
     ]
    },
    {
     "name": "stdin",
     "output_type": "stream",
     "text": [
      "Input location to place your piece: A3\n"
     ]
    },
    {
     "name": "stdout",
     "output_type": "stream",
     "text": [
      " --- --- ---\n",
      "|   |   | X | \n",
      " --- --- ---\n",
      "| X |   | X | \n",
      " --- --- ---\n",
      "|   |   | X | \n",
      " --- --- ---\n",
      "Winner is player X\n"
     ]
    }
   ],
   "source": [
    "## Test your solution here\n",
    "TicTacToe(board_0)"
   ]
  },
  {
   "cell_type": "markdown",
   "metadata": {},
   "source": [
    "***Exercise 10:*** Test that your game works for 5x5 Tic Tac Toe.  "
   ]
  },
  {
   "cell_type": "code",
   "execution_count": 20,
   "metadata": {},
   "outputs": [
    {
     "name": "stdout",
     "output_type": "stream",
     "text": [
      "   1    2    3    4    5    \n",
      "   --- --- --- --- --- \n",
      "A |   |   |   |   |   | \n",
      "   --- --- --- --- --- \n",
      "B |   |   |   |   |   | \n",
      "   --- --- --- --- --- \n",
      "C |   |   |   |   |   | \n",
      "   --- --- --- --- --- \n",
      "D |   |   |   |   |   | \n",
      "   --- --- --- --- --- \n",
      "E |   |   |   |   |   | \n",
      "   --- --- --- --- --- \n",
      "Welcome to Tic-Tac-Toe!\n",
      "--------------------\n",
      " --- --- --- --- ---\n",
      "|   |   |   |   |   | \n",
      " --- --- --- --- ---\n",
      "|   |   |   |   |   | \n",
      " --- --- --- --- ---\n",
      "|   |   |   |   |   | \n",
      " --- --- --- --- ---\n",
      "|   |   |   |   |   | \n",
      " --- --- --- --- ---\n",
      "|   |   |   |   |   | \n",
      " --- --- --- --- ---\n",
      "Player X move:\n"
     ]
    },
    {
     "name": "stdin",
     "output_type": "stream",
     "text": [
      "Input location to place your piece: E1\n"
     ]
    },
    {
     "name": "stdout",
     "output_type": "stream",
     "text": [
      " --- --- --- --- ---\n",
      "|   |   |   |   |   | \n",
      " --- --- --- --- ---\n",
      "|   |   |   |   |   | \n",
      " --- --- --- --- ---\n",
      "|   |   |   |   |   | \n",
      " --- --- --- --- ---\n",
      "|   |   |   |   |   | \n",
      " --- --- --- --- ---\n",
      "| X |   |   |   |   | \n",
      " --- --- --- --- ---\n",
      "Player O move:\n"
     ]
    },
    {
     "name": "stdin",
     "output_type": "stream",
     "text": [
      "Input location to place your piece: D2\n"
     ]
    },
    {
     "name": "stdout",
     "output_type": "stream",
     "text": [
      " --- --- --- --- ---\n",
      "|   |   |   |   |   | \n",
      " --- --- --- --- ---\n",
      "|   |   |   |   |   | \n",
      " --- --- --- --- ---\n",
      "|   |   |   |   |   | \n",
      " --- --- --- --- ---\n",
      "|   | O |   |   |   | \n",
      " --- --- --- --- ---\n",
      "| X |   |   |   |   | \n",
      " --- --- --- --- ---\n",
      "Player X move:\n"
     ]
    },
    {
     "name": "stdin",
     "output_type": "stream",
     "text": [
      "Input location to place your piece: E2\n"
     ]
    },
    {
     "name": "stdout",
     "output_type": "stream",
     "text": [
      " --- --- --- --- ---\n",
      "|   |   |   |   |   | \n",
      " --- --- --- --- ---\n",
      "|   |   |   |   |   | \n",
      " --- --- --- --- ---\n",
      "|   |   |   |   |   | \n",
      " --- --- --- --- ---\n",
      "|   | O |   |   |   | \n",
      " --- --- --- --- ---\n",
      "| X | X |   |   |   | \n",
      " --- --- --- --- ---\n",
      "Player O move:\n"
     ]
    },
    {
     "name": "stdin",
     "output_type": "stream",
     "text": [
      "Input location to place your piece: D3\n"
     ]
    },
    {
     "name": "stdout",
     "output_type": "stream",
     "text": [
      " --- --- --- --- ---\n",
      "|   |   |   |   |   | \n",
      " --- --- --- --- ---\n",
      "|   |   |   |   |   | \n",
      " --- --- --- --- ---\n",
      "|   |   |   |   |   | \n",
      " --- --- --- --- ---\n",
      "|   | O | O |   |   | \n",
      " --- --- --- --- ---\n",
      "| X | X |   |   |   | \n",
      " --- --- --- --- ---\n",
      "Player X move:\n"
     ]
    },
    {
     "name": "stdin",
     "output_type": "stream",
     "text": [
      "Input location to place your piece: E3\n"
     ]
    },
    {
     "name": "stdout",
     "output_type": "stream",
     "text": [
      " --- --- --- --- ---\n",
      "|   |   |   |   |   | \n",
      " --- --- --- --- ---\n",
      "|   |   |   |   |   | \n",
      " --- --- --- --- ---\n",
      "|   |   |   |   |   | \n",
      " --- --- --- --- ---\n",
      "|   | O | O |   |   | \n",
      " --- --- --- --- ---\n",
      "| X | X | X |   |   | \n",
      " --- --- --- --- ---\n",
      "Player O move:\n"
     ]
    },
    {
     "name": "stdin",
     "output_type": "stream",
     "text": [
      "Input location to place your piece: D4\n"
     ]
    },
    {
     "name": "stdout",
     "output_type": "stream",
     "text": [
      " --- --- --- --- ---\n",
      "|   |   |   |   |   | \n",
      " --- --- --- --- ---\n",
      "|   |   |   |   |   | \n",
      " --- --- --- --- ---\n",
      "|   |   |   |   |   | \n",
      " --- --- --- --- ---\n",
      "|   | O | O | O |   | \n",
      " --- --- --- --- ---\n",
      "| X | X | X |   |   | \n",
      " --- --- --- --- ---\n",
      "Player X move:\n"
     ]
    },
    {
     "name": "stdin",
     "output_type": "stream",
     "text": [
      "Input location to place your piece: E4\n"
     ]
    },
    {
     "name": "stdout",
     "output_type": "stream",
     "text": [
      " --- --- --- --- ---\n",
      "|   |   |   |   |   | \n",
      " --- --- --- --- ---\n",
      "|   |   |   |   |   | \n",
      " --- --- --- --- ---\n",
      "|   |   |   |   |   | \n",
      " --- --- --- --- ---\n",
      "|   | O | O | O |   | \n",
      " --- --- --- --- ---\n",
      "| X | X | X | X |   | \n",
      " --- --- --- --- ---\n",
      "Player O move:\n"
     ]
    },
    {
     "name": "stdin",
     "output_type": "stream",
     "text": [
      "Input location to place your piece: D5\n"
     ]
    },
    {
     "name": "stdout",
     "output_type": "stream",
     "text": [
      " --- --- --- --- ---\n",
      "|   |   |   |   |   | \n",
      " --- --- --- --- ---\n",
      "|   |   |   |   |   | \n",
      " --- --- --- --- ---\n",
      "|   |   |   |   |   | \n",
      " --- --- --- --- ---\n",
      "|   | O | O | O | O | \n",
      " --- --- --- --- ---\n",
      "| X | X | X | X |   | \n",
      " --- --- --- --- ---\n",
      "Player X move:\n"
     ]
    },
    {
     "name": "stdin",
     "output_type": "stream",
     "text": [
      "Input location to place your piece: E5\n"
     ]
    },
    {
     "name": "stdout",
     "output_type": "stream",
     "text": [
      " --- --- --- --- ---\n",
      "|   |   |   |   |   | \n",
      " --- --- --- --- ---\n",
      "|   |   |   |   |   | \n",
      " --- --- --- --- ---\n",
      "|   |   |   |   |   | \n",
      " --- --- --- --- ---\n",
      "|   | O | O | O | O | \n",
      " --- --- --- --- ---\n",
      "| X | X | X | X | X | \n",
      " --- --- --- --- ---\n",
      "Winner is player X\n"
     ]
    }
   ],
   "source": [
    "# Test your solution here\n",
    "board_1=Board(5)\n",
    "LabelBoard(board_1)\n",
    "TicTacToe(board_1)"
   ]
  },
  {
   "cell_type": "markdown",
   "metadata": {},
   "source": [
    "*Exercise 11:* (Advanced / Challenge) Develop a version of the game where one player is the computer. Note that you don't need to do an extensive seach for the best move. You can have the computer simply protect against loosing and otherwise try to win with straight or diagonal patterns."
   ]
  },
  {
   "cell_type": "code",
   "execution_count": 21,
   "metadata": {},
   "outputs": [],
   "source": [
    "# Write you solution here"
   ]
  },
  {
   "cell_type": "code",
   "execution_count": 22,
   "metadata": {},
   "outputs": [],
   "source": [
    "# Test your solution here"
   ]
  }
 ],
 "metadata": {
  "kernelspec": {
   "display_name": "Python 3 (ipykernel)",
   "language": "python",
   "name": "python3"
  },
  "language_info": {
   "codemirror_mode": {
    "name": "ipython",
    "version": 3
   },
   "file_extension": ".py",
   "mimetype": "text/x-python",
   "name": "python",
   "nbconvert_exporter": "python",
   "pygments_lexer": "ipython3",
   "version": "3.10.12"
  }
 },
 "nbformat": 4,
 "nbformat_minor": 4
}
