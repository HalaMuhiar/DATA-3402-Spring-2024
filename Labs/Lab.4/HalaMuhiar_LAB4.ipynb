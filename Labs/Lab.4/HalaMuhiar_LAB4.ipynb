{
 "cells": [
  {
   "cell_type": "markdown",
   "metadata": {},
   "source": [
    "# Lab 4- Object Oriented Programming\n",
    "\n",
    "For all of the exercises below, make sure you provide tests of your solutions.\n"
   ]
  },
  {
   "cell_type": "markdown",
   "metadata": {},
   "source": [
    "1. Write a \"counter\" class that can be incremented up to a specified maximum value, will print an error if an attempt is made to increment beyond that value, and allows reseting the counter. "
   ]
  },
  {
   "cell_type": "code",
   "execution_count": 1,
   "metadata": {},
   "outputs": [],
   "source": [
    "class Counter:\n",
    "    def __init__(self,max):\n",
    "        self.value=0\n",
    "        self.max=max\n",
    "\n",
    "    def increment(self):\n",
    "        if self.value>=self.max:\n",
    "            print('Error.')\n",
    "        else:\n",
    "            self.value+=1\n",
    "\n",
    "    def reset(self):\n",
    "        self.value=0\n",
    "\n",
    "    def __str__(self):\n",
    "        return f'{self.value}'"
   ]
  },
  {
   "cell_type": "code",
   "execution_count": 2,
   "metadata": {},
   "outputs": [
    {
     "name": "stdout",
     "output_type": "stream",
     "text": [
      "5\n"
     ]
    }
   ],
   "source": [
    "num=Counter(10)\n",
    "num.increment()\n",
    "num.increment()\n",
    "num.increment()\n",
    "num.increment()\n",
    "num.increment()\n",
    "print(num)"
   ]
  },
  {
   "cell_type": "code",
   "execution_count": 3,
   "metadata": {},
   "outputs": [
    {
     "name": "stdout",
     "output_type": "stream",
     "text": [
      "0\n"
     ]
    }
   ],
   "source": [
    "num.reset()\n",
    "print(num)"
   ]
  },
  {
   "cell_type": "markdown",
   "metadata": {},
   "source": [
    "2. Copy and paste your solution to question 1 and modify it so that all the data held by the counter is private. Implement functions to check the value of the counter, check the maximum value, and check if the counter is at the maximum."
   ]
  },
  {
   "cell_type": "code",
   "execution_count": 4,
   "metadata": {},
   "outputs": [],
   "source": [
    "class Counter:\n",
    "    def __init__(self,max):\n",
    "        self.__value=0\n",
    "        self.__max=max\n",
    "\n",
    "    def increment(self):\n",
    "        if self.__value>=self.__max:\n",
    "            print('Error.')\n",
    "        else:\n",
    "            self.__value+=1\n",
    "            \n",
    "    def reset(self):\n",
    "        self.__value=0\n",
    "\n",
    "    def __str__(self):\n",
    "        return f'{self.__value}'\n",
    "\n",
    "    # Accessors\n",
    "    def get_value(self):\n",
    "        return self.__value\n",
    "\n",
    "    def get_max(self):\n",
    "        return self.__max\n",
    "\n",
    "    def max_check(self):\n",
    "        return self.__value==self.__max"
   ]
  },
  {
   "cell_type": "code",
   "execution_count": 5,
   "metadata": {},
   "outputs": [],
   "source": [
    "num2=Counter(20)"
   ]
  },
  {
   "cell_type": "code",
   "execution_count": 6,
   "metadata": {},
   "outputs": [
    {
     "name": "stdout",
     "output_type": "stream",
     "text": [
      "2\n",
      "20\n",
      "False\n"
     ]
    }
   ],
   "source": [
    "num2.increment()\n",
    "num2.increment()\n",
    "\n",
    "print(num2.get_value())\n",
    "print(num2.get_max())\n",
    "print(num2.max_check())"
   ]
  },
  {
   "cell_type": "markdown",
   "metadata": {},
   "source": [
    "3. Implement a class to represent a rectangle, holding the length, width, and $x$ and $y$ coordinates of a corner of the object. Implement functions that compute the area and perimeter of the rectangle. Make all data members private and provide accessors to retrieve values of data members. "
   ]
  },
  {
   "cell_type": "code",
   "execution_count": 7,
   "metadata": {},
   "outputs": [],
   "source": [
    "class Rectangle:\n",
    "    def __init__(self,length,width,x,y):\n",
    "        self.__length=length\n",
    "        self.__width=width\n",
    "        self.__x=x\n",
    "        self.__y=y\n",
    "\n",
    "    def area(self):\n",
    "        return self.__length*self.__width\n",
    "\n",
    "    def perimeter(self):\n",
    "        return 2*(self.__length+self.__width)\n",
    "\n",
    "    # Accessors\n",
    "    def get_length(self):\n",
    "        return self.__length\n",
    "\n",
    "    def get_width(self):\n",
    "        return self.__width\n",
    "\n",
    "    def get_x(self):\n",
    "        return self.__x\n",
    "\n",
    "    def get_y(self):\n",
    "        return self.__y"
   ]
  },
  {
   "cell_type": "code",
   "execution_count": 8,
   "metadata": {},
   "outputs": [
    {
     "name": "stdout",
     "output_type": "stream",
     "text": [
      "Length:  10\n",
      "Width:  8\n",
      "Perimeter:  36\n",
      "Area:  80\n"
     ]
    }
   ],
   "source": [
    "rectangle=Rectangle(10,8,1,0)\n",
    "\n",
    "print('Length: ',rectangle.get_length())\n",
    "print('Width: ',rectangle.get_width())\n",
    "print('Perimeter: ',rectangle.perimeter())\n",
    "print('Area: ',rectangle.area())"
   ]
  },
  {
   "cell_type": "markdown",
   "metadata": {},
   "source": [
    "4. Implement a class to represent a circle, holding the radius and $x$ and $y$ coordinates of center of the object. Implement functions that compute the area and perimeter of the rectangle. Make all data members private and provide accessors to retrieve values of data members. "
   ]
  },
  {
   "cell_type": "code",
   "execution_count": 9,
   "metadata": {},
   "outputs": [],
   "source": [
    "import math\n",
    "class Circle:\n",
    "    def __init__(self,radius,x,y):\n",
    "        self.__radius=radius\n",
    "        self.__x=x\n",
    "        self.__y=y\n",
    "\n",
    "    def area(self):\n",
    "        return math.pi*(self.__radius)**2\n",
    "\n",
    "    def circumference(self):\n",
    "        return 2*math.pi*self.__radius\n",
    "\n",
    "    # Accessors\n",
    "    def get_radius(self):\n",
    "        return self.__radius\n",
    "\n",
    "    def get_x(self):\n",
    "        return self.__x\n",
    "\n",
    "    def get_y(self):\n",
    "        return self.__y"
   ]
  },
  {
   "cell_type": "code",
   "execution_count": 10,
   "metadata": {},
   "outputs": [
    {
     "name": "stdout",
     "output_type": "stream",
     "text": [
      "Area:  28.274333882308138\n",
      "Circumference:  18.84955592153876\n"
     ]
    }
   ],
   "source": [
    "circle=Circle(3,0,0)\n",
    "\n",
    "print('Area: ',circle.area())\n",
    "print('Circumference: ',circle.circumference())"
   ]
  },
  {
   "cell_type": "markdown",
   "metadata": {},
   "source": [
    "5. Implement a common base class for the classes implemented in 3 and 4 above which implements all common methods as not implemented functions (virtual). Re-implement those classes to inherit from the base class and overload the functions accordingly. "
   ]
  },
  {
   "cell_type": "code",
   "execution_count": 11,
   "metadata": {},
   "outputs": [],
   "source": [
    "import math\n",
    "class Base:\n",
    "    def __init__(self,x,y):\n",
    "        self.x=x\n",
    "        self.y=y\n",
    "\n",
    "    def get_x(self):\n",
    "        return self.x\n",
    "\n",
    "    def get_y(self):\n",
    "        return self.y\n",
    "\n",
    "    def Area(self):\n",
    "        raise NotImplementedError()\n",
    "\n",
    "    def Perimeter(self):\n",
    "        raise NotImplementedError()\n",
    "\n",
    "class Rectangle(Base):\n",
    "    def __init__(self,length,width,x,y):\n",
    "        super().__init__(x,y)\n",
    "        self.__length=length\n",
    "        self.__width=width\n",
    "\n",
    "    def Area(self):\n",
    "        return self.__length*self.__width\n",
    "\n",
    "    def Perimeter(self):\n",
    "        return 2*(self.__length+self.__width)\n",
    "\n",
    "class Circle(Base):\n",
    "    def __init__(self,radius,x,y):\n",
    "        super().__init__(x,y)\n",
    "        self.__radius=radius\n",
    "\n",
    "    def Area(self):\n",
    "        return math.pi*(self.__radius)**2\n",
    "\n",
    "    def Perimeter(self):\n",
    "        return 2*math.pi*self.__radius"
   ]
  },
  {
   "cell_type": "code",
   "execution_count": 12,
   "metadata": {},
   "outputs": [
    {
     "name": "stdout",
     "output_type": "stream",
     "text": [
      "Area:  113.09733552923255\n",
      "x coordinate:  0\n"
     ]
    }
   ],
   "source": [
    "circle1=Circle(6,0,0)\n",
    "print('Area: ',circle1.Area())\n",
    "print('x coordinate: ',circle1.get_x())"
   ]
  },
  {
   "cell_type": "code",
   "execution_count": 13,
   "metadata": {},
   "outputs": [
    {
     "name": "stdout",
     "output_type": "stream",
     "text": [
      "Perimeter:  22\n",
      "x coordinate:  0\n"
     ]
    }
   ],
   "source": [
    "rectangle1=Rectangle(5,6,0,0)\n",
    "print('Perimeter: ',rectangle1.Perimeter())\n",
    "print('x coordinate: ',rectangle1.get_x())"
   ]
  },
  {
   "cell_type": "markdown",
   "metadata": {},
   "source": [
    "6. Implement an analogous triangle class."
   ]
  },
  {
   "cell_type": "code",
   "execution_count": 14,
   "metadata": {},
   "outputs": [],
   "source": [
    "class Base:\n",
    "    def __init__(self,x,y):\n",
    "        self.x=x\n",
    "        self.y=y\n",
    "\n",
    "    def get_x(self):\n",
    "        return self.x\n",
    "\n",
    "    def get_y(self):\n",
    "        return self.y\n",
    "\n",
    "    def Area(self):\n",
    "        raise NotImplementedError()\n",
    "\n",
    "    def Perimeter(self):\n",
    "        raise NotImplementedError()\n",
    "\n",
    "class Triangle(Base):\n",
    "    def __init__(self,side_base,side_b,side_c,height,x,y):\n",
    "        super().__init__(x,y)\n",
    "        self.__side_base=side_base\n",
    "        self.__side_b=side_b\n",
    "        self.__side_c=side_c\n",
    "        self.__height=height\n",
    "\n",
    "    def Area(self):\n",
    "        return 0.5*self.__side_base*self.__height\n",
    "\n",
    "    def Perimeter(self):\n",
    "        return self.__side_base+self.__side_b+self.__side_c"
   ]
  },
  {
   "cell_type": "code",
   "execution_count": 15,
   "metadata": {},
   "outputs": [
    {
     "name": "stdout",
     "output_type": "stream",
     "text": [
      "Area of triangle:  6.0\n",
      "Perimeter of triangle:  12\n",
      "x coordinate:  1\n"
     ]
    }
   ],
   "source": [
    "triangle=Triangle(3,4,5,4,1,0)\n",
    "\n",
    "print('Area of triangle: ',triangle.Area())\n",
    "print('Perimeter of triangle: ',triangle.Perimeter())\n",
    "print('x coordinate: ',triangle.get_x())"
   ]
  },
  {
   "cell_type": "markdown",
   "metadata": {},
   "source": [
    "7. Add a function to the object classes that tests if a given set of $x$ and $y$ coordinates are inside of the object."
   ]
  },
  {
   "cell_type": "code",
   "execution_count": 16,
   "metadata": {},
   "outputs": [],
   "source": [
    "import math\n",
    "class Base:\n",
    "    def __init__(self,x,y):\n",
    "        self.x=x\n",
    "        self.y=y\n",
    "\n",
    "    def get_x(self):\n",
    "        return self.x\n",
    "\n",
    "    def get_y(self):\n",
    "        return self.y\n",
    "\n",
    "    def Area(self):\n",
    "        raise NotImplementedError()\n",
    "\n",
    "    def Perimeter(self):\n",
    "        raise NotImplementedError()\n",
    "\n",
    "class Rectangle(Base):\n",
    "    def __init__(self,length,width,x,y):\n",
    "        super().__init__(x,y)\n",
    "        self.__length=length\n",
    "        self.__width=width\n",
    "\n",
    "    def Area(self):\n",
    "        return self.__length*self.__width\n",
    "\n",
    "    def Perimeter(self):\n",
    "        return 2*(self.__length+self.__width)\n",
    "\n",
    "    # Function for problem 7\n",
    "    def Point(self,ix,iy):\n",
    "        return self.x <= ix <= (self.x + self.__length) and self.y <= iy <= (self.y + self.__width)\n",
    "\n",
    "class Circle(Base):\n",
    "    def __init__(self,radius,x,y):\n",
    "        super().__init__(x,y)\n",
    "        self.__radius=radius\n",
    "\n",
    "    def Area(self):\n",
    "        return math.pi*(self.__radius)**2\n",
    "\n",
    "    def Perimeter(self):\n",
    "        return 2*math.pi*self.__radius\n",
    "\n",
    "    # Function for problem 7    \n",
    "    def Point(self,ix,iy):\n",
    "        d=math.sqrt((ix-self.x)**2+(iy-self.y)**2)\n",
    "        return d <= self.__radius"
   ]
  },
  {
   "cell_type": "code",
   "execution_count": 17,
   "metadata": {},
   "outputs": [
    {
     "data": {
      "text/plain": [
       "True"
      ]
     },
     "execution_count": 17,
     "metadata": {},
     "output_type": "execute_result"
    }
   ],
   "source": [
    "circle2=Circle(6,2,0)\n",
    "circle2.Point(3,1)"
   ]
  },
  {
   "cell_type": "code",
   "execution_count": 18,
   "metadata": {},
   "outputs": [
    {
     "data": {
      "text/plain": [
       "True"
      ]
     },
     "execution_count": 18,
     "metadata": {},
     "output_type": "execute_result"
    }
   ],
   "source": [
    "rectangle2=Rectangle(3,4,1,1)\n",
    "rectangle2.Point(3,1)"
   ]
  },
  {
   "cell_type": "markdown",
   "metadata": {},
   "source": [
    "8. Add a function to the object classes that return a list of up to 16 pairs of  $x$ and $y$ points on the parameter of the object.\n",
    "\n"
   ]
  },
  {
   "cell_type": "code",
   "execution_count": 19,
   "metadata": {},
   "outputs": [],
   "source": [
    "import math\n",
    "class Base:\n",
    "    def __init__(self,x,y):\n",
    "        self.x=x\n",
    "        self.y=y\n",
    "\n",
    "    def get_x(self):\n",
    "        return self.x\n",
    "\n",
    "    def get_y(self):\n",
    "        return self.y\n",
    "\n",
    "    def Area(self):\n",
    "        raise NotImplementedError()\n",
    "\n",
    "    def Perimeter(self):\n",
    "        raise NotImplementedError()\n",
    "\n",
    "class Rectangle(Base):\n",
    "    def __init__(self,length,width,x,y):\n",
    "        super().__init__(x,y)\n",
    "        self.__length=length\n",
    "        self.__width=width\n",
    "\n",
    "    def Area(self):\n",
    "        return self.__length*self.__width\n",
    "\n",
    "    def Perimeter(self):\n",
    "        return 2*(self.__length+self.__width)\n",
    "\n",
    "    # Function for problem 7\n",
    "    def Point(self,ix,iy):\n",
    "        return self.x <= ix <= (self.x + self.__length) and self.y <= iy <= (self.y + self.__width)\n",
    "\n",
    "    # Function for problem 8\n",
    "    def pair_points(self):\n",
    "        points = []\n",
    "        points.append((self.x, self.y))\n",
    "        points.append((self.x + self.__length, self.y))\n",
    "        points.append((self.x + self.__length, self.y + self.__width))\n",
    "        points.append((self.x, self.y + self.__width))\n",
    "        return points\n",
    "    \n",
    "class Circle(Base):\n",
    "    def __init__(self,radius,x,y):\n",
    "        super().__init__(x,y)\n",
    "        self.__radius=radius\n",
    "    \n",
    "    def Area(self):\n",
    "        return math.pi*(self.__radius)**2\n",
    "\n",
    "    def Perimeter(self):\n",
    "        return 2*math.pi*self.__radius\n",
    "    \n",
    "    # Function for problem 7    \n",
    "    def Point(self,ix,iy):\n",
    "        d=math.sqrt((ix-self.x)**2+(iy-self.y)**2)\n",
    "        return d <= self.__radius\n",
    "\n",
    "    # Function for problem 8\n",
    "    def pair_points(self):\n",
    "        points = []\n",
    "        for i in range(0, 16):\n",
    "            angle=i*(2 * math.pi / 16)\n",
    "            x=self.get_x() + self.__radius * math.cos(angle)\n",
    "            y=self.get_y() + self.__radius * math.sin(angle)\n",
    "            points.append((x, y))\n",
    "        return points"
   ]
  },
  {
   "cell_type": "code",
   "execution_count": 20,
   "metadata": {},
   "outputs": [
    {
     "name": "stdout",
     "output_type": "stream",
     "text": [
      "[(1, 1), (4, 1), (4, 5), (1, 5)]\n"
     ]
    }
   ],
   "source": [
    "rectangle3=Rectangle(3,4,1,1)\n",
    "\n",
    "print(rectangle3.pair_points())"
   ]
  },
  {
   "cell_type": "code",
   "execution_count": 21,
   "metadata": {},
   "outputs": [
    {
     "name": "stdout",
     "output_type": "stream",
     "text": [
      "[(6.0, 0.0), (5.54327719506772, 2.2961005941905386), (4.242640687119286, 4.242640687119285), (2.296100594190539, 5.54327719506772), (3.6739403974420594e-16, 6.0), (-2.2961005941905386, 5.54327719506772), (-4.242640687119285, 4.242640687119286), (-5.54327719506772, 2.2961005941905395), (-6.0, 7.347880794884119e-16), (-5.543277195067721, -2.296100594190538), (-4.242640687119286, -4.242640687119285), (-2.296100594190542, -5.543277195067719), (-1.102182119232618e-15, -6.0), (2.29610059419054, -5.54327719506772), (4.242640687119284, -4.242640687119286), (5.543277195067719, -2.296100594190542)]\n"
     ]
    }
   ],
   "source": [
    "circle3=Circle(6,0,0)\n",
    "\n",
    "print(circle3.pair_points())"
   ]
  },
  {
   "cell_type": "markdown",
   "metadata": {},
   "source": [
    "9. Add a function in the base class of the object classes that returns true/false testing that the object overlaps with another object."
   ]
  },
  {
   "cell_type": "code",
   "execution_count": 22,
   "metadata": {},
   "outputs": [],
   "source": [
    "import math\n",
    "class Base:\n",
    "    def __init__(self,x,y):\n",
    "        self.x=x\n",
    "        self.y=y\n",
    "\n",
    "    def get_x(self):\n",
    "        return self.x\n",
    "\n",
    "    def get_y(self):\n",
    "        return self.y\n",
    "\n",
    "    def Area(self):\n",
    "        raise NotImplementedError()\n",
    "\n",
    "    def Perimeter(self):\n",
    "        raise NotImplementedError()\n",
    "\n",
    "    def inside(self,x,y):\n",
    "        pass\n",
    "\n",
    "    def overlap(self,os):\n",
    "        pass\n",
    "\n",
    "class Rectangle(Base):\n",
    "    def __init__(self,length,width,x,y):\n",
    "        super().__init__(x,y)\n",
    "        self.__length=length\n",
    "        self.__width=width\n",
    "\n",
    "    def get_length(self):\n",
    "        return self.length\n",
    "\n",
    "    def get_width(self):\n",
    "        return self.width\n",
    "\n",
    "    def Area(self):\n",
    "        return self.__length*self.__width\n",
    "\n",
    "    def Perimeter(self):\n",
    "        return 2*(self.__length+self.__width)\n",
    "\n",
    "    # Function for problem 7\n",
    "    def Point(self,ix,iy):\n",
    "        return self.x <= ix <= (self.x + self.__length) and self.y <= iy <= (self.y + self.__width)\n",
    "\n",
    "    # Function for problem 8\n",
    "    def pair_points(self):\n",
    "        points = []\n",
    "        points.append((self.x, self.y))\n",
    "        points.append((self.x + self.__length, self.y))\n",
    "        points.append((self.x + self.__length, self.y + self.__width))\n",
    "        points.append((self.x, self.y + self.__width))\n",
    "        return points\n",
    "\n",
    "    # Function for problem 9\n",
    "    def overlap(self,os):\n",
    "        return not (self.__length + self.get_x() < os.get_x() or\n",
    "                    self.__width + self.get_y() < os.get_y() or\n",
    "                    os.get_length() + os.get_x() < self.get_x() or\n",
    "                    os.get_width() + os.get_y() < self.get_y())\n",
    "    \n",
    "class Circle(Base):\n",
    "    def __init__(self,radius,x,y):\n",
    "        super().__init__(x,y)\n",
    "        self.__radius=radius\n",
    "\n",
    "    def get_radius(self):\n",
    "        return self.__radius\n",
    "    \n",
    "    def Area(self):\n",
    "        return math.pi*(self.__radius)**2\n",
    "\n",
    "    def Perimeter(self):\n",
    "        return 2*math.pi*self.__radius\n",
    "    \n",
    "    # Function for problem 7    \n",
    "    def Point(self,ix,iy):\n",
    "        d=math.sqrt((ix-self.x)**2+(iy-self.y)**2)\n",
    "        return d <= self.__radius\n",
    "\n",
    "    # Function for problem 8\n",
    "    def pair_points(self):\n",
    "        points = []\n",
    "        for i in range(0, 16):\n",
    "            angle=i*(2 * math.pi / 16)\n",
    "            x=self.get_x() + self.__radius * math.cos(angle)\n",
    "            y=self.get_y() + self.__radius * math.sin(angle)\n",
    "            points.append((x, y))\n",
    "        return points\n",
    "\n",
    "    # Function for problem 9\n",
    "    def overlap(self,os):\n",
    "        d=math.sqrt((self.get_x()-os.get_x())**2+(self.get_y()-os.get_y())**2)\n",
    "        return d<self.__radius+os.get_radius()"
   ]
  },
  {
   "cell_type": "code",
   "execution_count": 23,
   "metadata": {},
   "outputs": [
    {
     "name": "stdout",
     "output_type": "stream",
     "text": [
      "False\n"
     ]
    }
   ],
   "source": [
    "circle4=Circle(1,0,0)\n",
    "circle5=Circle(1,3,2)\n",
    "\n",
    "print(circle4.overlap(circle5))"
   ]
  },
  {
   "cell_type": "markdown",
   "metadata": {},
   "source": [
    "10. Copy the `Canvas` class from lecture to in a python file creating a `paint` module. Copy your classes from above into the module and implement paint functions. Implement a `CompoundShape` class. Create a simple drawing demonstrating that all of your classes are working."
   ]
  },
  {
   "cell_type": "code",
   "execution_count": 28,
   "metadata": {},
   "outputs": [],
   "source": [
    "class Canvas:\n",
    "    def __init__(self, width, height):\n",
    "        self.width = width\n",
    "        self.height = height\n",
    "        self.data = [[' '] * width for i in range(height)]\n",
    "\n",
    "    def set_pixel(self, row, col, char='*'):\n",
    "        self.data[row][col] = char\n",
    "\n",
    "    def get_pixel(self, row, col):\n",
    "        return self.data[row][col]\n",
    "    \n",
    "    def clear_canvas(self):\n",
    "        self.data = [[' '] * self.width for i in range(self.height)]\n",
    "    \n",
    "    def v_line(self, x, y, w, **kargs):\n",
    "        for i in range(x,x+w):\n",
    "            self.set_pixel(i,y, **kargs)\n",
    "\n",
    "    def h_line(self, x, y, h, **kargs):\n",
    "        for i in range(y,y+h):\n",
    "            self.set_pixel(x,i, **kargs)\n",
    "            \n",
    "    def line(self, x1, y1, x2, y2, **kargs):\n",
    "        slope = (y2-y1) / (x2-x1)\n",
    "        for y in range(y1,y2):\n",
    "            x= int(slope * y)\n",
    "            self.set_pixel(x,y, **kargs)\n",
    "            \n",
    "    def display(self):\n",
    "        print(\"\\n\".join([\"\".join(row) for row in self.data]))\n",
    "\n",
    "import math\n",
    "class Base:\n",
    "    def __init__(self,x,y):\n",
    "        self.x=x\n",
    "        self.y=y\n",
    "\n",
    "    def get_x(self):\n",
    "        return self.x\n",
    "\n",
    "    def get_y(self):\n",
    "        return self.y\n",
    "\n",
    "    def Area(self):\n",
    "        raise NotImplementedError()\n",
    "\n",
    "    def Perimeter(self):\n",
    "        raise NotImplementedError()\n",
    "\n",
    "    def inside(self,x,y):\n",
    "        pass\n",
    "\n",
    "    def overlap(self,os):\n",
    "        pass\n",
    "\n",
    "class Rectangle(Base):\n",
    "    def __init__(self,length,width,x,y):\n",
    "        super().__init__(x,y)\n",
    "        self.__length=length\n",
    "        self.__width=width\n",
    "\n",
    "    def get_length(self):\n",
    "        return self.length\n",
    "\n",
    "    def get_width(self):\n",
    "        return self.width\n",
    "\n",
    "    def Area(self):\n",
    "        return self.__length*self.__width\n",
    "\n",
    "    def Perimeter(self):\n",
    "        return 2*(self.__length+self.__width)\n",
    "\n",
    "    # Function for problem 7\n",
    "    def Point(self,ix,iy):\n",
    "        return self.x <= ix <= (self.x + self.__length) and self.y <= iy <= (self.y + self.__width)\n",
    "\n",
    "    # Function for problem 8\n",
    "    def pair_points(self):\n",
    "        points = []\n",
    "        points.append((self.x, self.y))\n",
    "        points.append((self.x + self.__length, self.y))\n",
    "        points.append((self.x + self.__length, self.y + self.__width))\n",
    "        points.append((self.x, self.y + self.__width))\n",
    "        return points\n",
    "\n",
    "    # Function for problem 9\n",
    "    def overlap(self,os):\n",
    "        return not (self.__length + self.get_x() < os.get_x() or\n",
    "                    self.__width + self.get_y() < os.get_y() or\n",
    "                    os.get_length() + os.get_x() < self.get_x() or\n",
    "                    os.get_width() + os.get_y() < self.get_y())\n",
    "    \n",
    "class Circle(Base):\n",
    "    def __init__(self,radius,x,y):\n",
    "        super().__init__(x,y)\n",
    "        self.__radius=radius\n",
    "\n",
    "    def get_radius(self):\n",
    "        return self.__radius\n",
    "    \n",
    "    def Area(self):\n",
    "        return math.pi*(self.__radius)**2\n",
    "\n",
    "    def Perimeter(self):\n",
    "        return 2*math.pi*self.__radius\n",
    "    \n",
    "    # Function for problem 7    \n",
    "    def Point(self,ix,iy):\n",
    "        d=math.sqrt((ix-self.x)**2+(iy-self.y)**2)\n",
    "        return d <= self.__radius\n",
    "\n",
    "    # Function for problem 8\n",
    "    def pair_points(self):\n",
    "        points = []\n",
    "        for i in range(0, 16):\n",
    "            angle=i*(2 * math.pi / 16)\n",
    "            x=self.get_x() + self.__radius * math.cos(angle)\n",
    "            y=self.get_y() + self.__radius * math.sin(angle)\n",
    "            points.append((x, y))\n",
    "        return points\n",
    "\n",
    "    # Function for problem 9\n",
    "    def overlap(self,os):\n",
    "        d=math.sqrt((self.get_x()-os.get_x())**2+(self.get_y()-os.get_y())**2)\n",
    "        return d<self.__radius+os.get_radius()"
   ]
  },
  {
   "cell_type": "code",
   "execution_count": 29,
   "metadata": {},
   "outputs": [],
   "source": [
    "class Shape:\n",
    "    def __init__(self, name=\"\", **kwargs):\n",
    "        self.name=name\n",
    "        self.kwargs=kwargs\n",
    "    \n",
    "    def paint(self, canvas): pass\n",
    "\n",
    "class Rectangle(Shape):\n",
    "    def __init__(self, x, y, w, h, **kwargs):\n",
    "        Shape.__init__(self, **kwargs)\n",
    "        self.x = x\n",
    "        self.y = y\n",
    "        self.w = w\n",
    "        self.h = h\n",
    "\n",
    "    def paint(self, canvas):\n",
    "        canvas.v_line(self.x, self.y, self.w, **self.kwargs)\n",
    "        canvas.v_line(self.x, self.y + self.h, self.w, **self.kwargs)\n",
    "        canvas.h_line(self.x, self.y, self.h, **self.kwargs)\n",
    "        canvas.h_line(self.x + self.w, self.y, self.h, **self.kwargs)\n",
    "\n",
    "class Square(Rectangle):\n",
    "    def __init__(self, x, y, size, **kwargs):\n",
    "        Rectangle.__init__(self, x, y, size, size, **kwargs)\n",
    "\n",
    "class Line(Shape):\n",
    "    def __init__(self, x1, y1, x2, y2,  **kwargs):\n",
    "        Shape.__init__(self, **kwargs)\n",
    "        self.x1=x1\n",
    "        self.y1=y1\n",
    "        self.x2=x2\n",
    "        self.y2=y2\n",
    "        \n",
    "    def paint(self, canvas):\n",
    "        canvas.line(self.x1,self.y1,self.x2,self.y2)\n",
    "        \n",
    "class CompoundShape(Shape):\n",
    "    def __init__(self, shapes):\n",
    "        self.shapes = shapes\n",
    "\n",
    "    def paint(self, canvas):\n",
    "        for s in self.shapes:\n",
    "            s.paint(canvas)"
   ]
  },
  {
   "cell_type": "code",
   "execution_count": 30,
   "metadata": {},
   "outputs": [
    {
     "name": "stdout",
     "output_type": "stream",
     "text": [
      "                                                  \n",
      "                                                  \n",
      "                                                  \n",
      "                                                  \n",
      "                                                  \n",
      "     ^^^^^^^^^^^^^^^^^^^^^                        \n",
      "     ^                   ^                        \n",
      "     ^                   ^                        \n",
      "     ^                   ^                        \n",
      "     ^                   ^                        \n",
      "     ^                   ^                        \n",
      "     ^                   ^                        \n",
      "     ^                   ^                        \n",
      "     ^                   ^                        \n",
      "     ^                   ^                        \n",
      "     ^                   ^                        \n",
      "     ^                   ^                        \n",
      "     ^                   ^                        \n",
      "     ^                   ^                        \n",
      "     ^                   ^                        \n",
      "     ^                   ^                        \n",
      "     ^                   ^                        \n",
      "     ^                   ^                        \n",
      "     ^                   ^                        \n",
      "     ^                   ^                        \n",
      "     ^^^^^^^^^^^^^^^^^^^^                         \n",
      "                                                  \n",
      "                                                  \n",
      "                                                  \n",
      "                                                  \n",
      "                                                  \n",
      "                                                  \n",
      "                                                  \n",
      "                                                  \n",
      "                                                  \n",
      "                                                  \n",
      "                                                  \n",
      "                                                  \n",
      "                                                  \n",
      "                                                  \n"
     ]
    }
   ],
   "source": [
    "c1=Canvas(50,40)\n",
    "s1=Square(5,5,20,char=\"^\")\n",
    "s1.paint(c1)\n",
    "c1.display()"
   ]
  },
  {
   "cell_type": "markdown",
   "metadata": {},
   "source": [
    "11. Create a `RasterDrawing` class. Demonstrate that you can create a drawing made of several shapes, paint the drawing, modify the drawing, and paint it again. "
   ]
  },
  {
   "cell_type": "code",
   "execution_count": 31,
   "metadata": {},
   "outputs": [],
   "source": [
    "class RasterDrawing:\n",
    "    def __init__(self):\n",
    "        self.shapes=dict()\n",
    "        self.shape_names=list()\n",
    "        \n",
    "    def add_shape(self,shape):\n",
    "        if shape.name == \"\":\n",
    "            shape.name = self.assign_name()\n",
    "        \n",
    "        self.shapes[shape.name]=shape\n",
    "        self.shape_names.append(shape.name)\n",
    "\n",
    "    def update(self, canvas):\n",
    "        canvas.clear_canvas()\n",
    "        self.paint(canvas)\n",
    "        \n",
    "    def paint(self,canvas):\n",
    "        for shape_name in self.shape_names:\n",
    "            self.shapes[shape_name].paint(canvas)\n",
    "            \n",
    "    def assign_name(self):\n",
    "        name_base=\"shape\"\n",
    "        name = name_base+\"_0\"\n",
    "        \n",
    "        i=1\n",
    "        while name in self.shapes:\n",
    "            name = name_base+\"_\"+str(i)\n",
    "            \n",
    "        return name"
   ]
  },
  {
   "cell_type": "code",
   "execution_count": 32,
   "metadata": {},
   "outputs": [
    {
     "name": "stdout",
     "output_type": "stream",
     "text": [
      "{'shape_0': <__main__.Square object at 0x7fbca4578f10>}\n",
      "{'shape_0': <__main__.Square object at 0x7fbca4578f10>, 'shape_1': <__main__.Line object at 0x7fbca4578490>}\n",
      "                                                  \n",
      "                                                  \n",
      "                                                  \n",
      "  *                                               \n",
      "   *                                              \n",
      "     ^^^^^^^^^^^^^^^^^^^^^                        \n",
      "    *^                   ^                        \n",
      "     *                   ^                        \n",
      "     ^                   ^                        \n",
      "     ^*                  ^                        \n",
      "     ^ *                 ^                        \n",
      "     ^                   ^                        \n",
      "     ^  *                ^                        \n",
      "     ^   *               ^                        \n",
      "     ^                   ^                        \n",
      "     ^    *              ^                        \n",
      "     ^                   ^                        \n",
      "     ^     *             ^                        \n",
      "     ^      *            ^                        \n",
      "     ^                   ^                        \n",
      "     ^       *           ^                        \n",
      "     ^        *          ^                        \n",
      "     ^                   ^                        \n",
      "     ^         *         ^                        \n",
      "     ^          *        ^                        \n",
      "     ^^^^^^^^^^^^^^^^^^^^                         \n",
      "                 *                                \n",
      "                  *                               \n",
      "                                                  \n",
      "                                                  \n",
      "                                                  \n",
      "                                                  \n",
      "                                                  \n",
      "                                                  \n",
      "                                                  \n",
      "                                                  \n",
      "                                                  \n",
      "                                                  \n",
      "                                                  \n",
      "                                                  \n"
     ]
    }
   ],
   "source": [
    "c1=Canvas(50,40)\n",
    "rd=RasterDrawing()\n",
    "\n",
    "rd.add_shape(Square(5,5,20,char=\"^\"))\n",
    "print(rd.shapes)\n",
    "rd.add_shape(Line(2,2,13,19))\n",
    "print(rd.shapes)\n",
    "rd.paint(c1)\n",
    "\n",
    "c1.display()"
   ]
  },
  {
   "cell_type": "markdown",
   "metadata": {},
   "source": [
    "12. Implement the ability to load/save raster drawings and demonstate that your method works. One way to implement this ability:\n",
    "\n",
    "   * Overload `__repr__` functions of all objects to return strings of the python code that would construct the object.\n",
    "   \n",
    "   * In the save method of raster drawing class, store the representations into the file.\n",
    "   * Write a loader function that reads the file and uses `eval` to instantiate the object.\n",
    "\n",
    "For example:"
   ]
  },
  {
   "cell_type": "code",
   "execution_count": 34,
   "metadata": {},
   "outputs": [],
   "source": [
    "class foo:\n",
    "    def __init__(self,a,b=None):\n",
    "        self.a=a\n",
    "        self.b=b\n",
    "        \n",
    "    def __repr__(self):\n",
    "        return \"foo(\"+repr(self.a)+\",\"+repr(self.b)+\")\"\n",
    "    \n",
    "    def save(self,filename):\n",
    "        f=open(filename,\"w\")\n",
    "        f.write(self.__repr__())\n",
    "        f.close()\n",
    "        \n",
    "   \n",
    "def foo_loader(filename):\n",
    "    f=open(filename,\"r\")\n",
    "    tmp=eval(f.read())\n",
    "    f.close()\n",
    "    return tmp\n"
   ]
  },
  {
   "cell_type": "code",
   "execution_count": 38,
   "metadata": {},
   "outputs": [
    {
     "name": "stdout",
     "output_type": "stream",
     "text": [
      "foo(1,<__main__.Canvas object at 0x7fbca4578fa0>)\n"
     ]
    }
   ],
   "source": [
    "# Test\n",
    "print(repr(foo(1,c1)))"
   ]
  },
  {
   "cell_type": "code",
   "execution_count": 39,
   "metadata": {},
   "outputs": [],
   "source": [
    "# Create an object and save it\n",
    "ff=foo(1,c1)\n",
    "ff.save(\"c1.foo\")"
   ]
  },
  {
   "cell_type": "code",
   "execution_count": 40,
   "metadata": {},
   "outputs": [
    {
     "name": "stdout",
     "output_type": "stream",
     "text": [
      "foo(1,<__main__.Canvas object at 0x7fbca4578fa0>)"
     ]
    }
   ],
   "source": [
    "# Check contents of the saved file\n",
    "!cat c1.foo"
   ]
  },
  {
   "cell_type": "code",
   "execution_count": 37,
   "metadata": {},
   "outputs": [
    {
     "ename": "SyntaxError",
     "evalue": "invalid syntax (<string>, line 1)",
     "output_type": "error",
     "traceback": [
      "Traceback \u001b[0;36m(most recent call last)\u001b[0m:\n",
      "\u001b[0m  File \u001b[1;32m/usr/local/lib/python3.10/dist-packages/IPython/core/interactiveshell.py:3553\u001b[0m in \u001b[1;35mrun_code\u001b[0m\n    exec(code_obj, self.user_global_ns, self.user_ns)\u001b[0m\n",
      "\u001b[0m  Cell \u001b[1;32mIn[37], line 2\u001b[0m\n    ff_reloaded=foo_loader(\"c1.foo\")\u001b[0m\n",
      "\u001b[0;36m  Cell \u001b[0;32mIn[34], line 17\u001b[0;36m in \u001b[0;35mfoo_loader\u001b[0;36m\n\u001b[0;31m    tmp=eval(f.read())\u001b[0;36m\n",
      "\u001b[0;36m  File \u001b[0;32m<string>:1\u001b[0;36m\u001b[0m\n\u001b[0;31m    foo(1,<__main__.Canvas object at 0x7fbca4578fa0>)\u001b[0m\n\u001b[0m          ^\u001b[0m\n\u001b[0;31mSyntaxError\u001b[0m\u001b[0;31m:\u001b[0m invalid syntax\n"
     ]
    }
   ],
   "source": [
    "# Load the object\n",
    "ff_reloaded=foo_loader(\"c1.foo\")\n",
    "ff_reloaded"
   ]
  },
  {
   "cell_type": "code",
   "execution_count": null,
   "metadata": {},
   "outputs": [],
   "source": []
  }
 ],
 "metadata": {
  "kernelspec": {
   "display_name": "Python 3 (ipykernel)",
   "language": "python",
   "name": "python3"
  },
  "language_info": {
   "codemirror_mode": {
    "name": "ipython",
    "version": 3
   },
   "file_extension": ".py",
   "mimetype": "text/x-python",
   "name": "python",
   "nbconvert_exporter": "python",
   "pygments_lexer": "ipython3",
   "version": "3.10.12"
  }
 },
 "nbformat": 4,
 "nbformat_minor": 4
}
